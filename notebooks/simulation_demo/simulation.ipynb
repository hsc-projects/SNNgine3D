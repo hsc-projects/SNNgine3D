{
 "cells": [
  {
   "cell_type": "markdown",
   "metadata": {},
   "source": [
    "# Basic Simulation Demo\n",
    "\n",
    "## Intro\n",
    "\n",
    "The simulation model roughly follows the model described [here](https://ieeexplore.ieee.org/document/5179043), while also leveraging the [dense-to-sparse conversion](https://docs.nvidia.com/cuda/cusparse/#cusparsedensetosparse) from the [cuSPARSE](https://docs.nvidia.com/cuda/cusparse) library.\n",
    "\n",
    "\n",
    "\n",
    "## Simulation Steps\n",
    "\n",
    "1. Voltage/Fired update (here: external kernel).\n",
    "2. DenseToSparse conversion (using \"write\"-pointers).\n",
    "3. \"read\"/\"write\"-pointer shifts.\n",
    "4. Synaptic current update (kernel; using \"read\"-pointers).\n",
    "\n",
    "## R-STDP (not implemented here)\n",
    "\n",
    "A first attempt at incorporating [R-STDP](https://arxiv.org/abs/1705.09132) in this simulation-model came with a large performance (and V-RAM) cost likely due to [divergence](https://docs.nvidia.com/cuda/cuda-c-best-practices-guide/#branching-and-divergence). [Dynamic parallelism](https://docs.nvidia.com/cuda/cuda-c-programming-guide/index.html#cuda-dynamic-parallelism) [should](https://www.sciencedirect.com/science/article/pii/S0925231218304168) bring some performance back.\n"
   ]
  },
  {
   "cell_type": "markdown",
   "metadata": {},
   "source": [
    "## Code"
   ]
  },
  {
   "cell_type": "code",
   "execution_count": 1,
   "metadata": {},
   "outputs": [],
   "source": [
    "import pycuda.autoinit\n",
    "import pycuda.driver as cuda\n",
    "cuda.Device(0).retain_primary_context()\n",
    "\n",
    "import numpy as np\n",
    "from pycuda.curandom import rand as curand\n",
    "import torch\n",
    "\n",
    "from sim_demo_utils import (\n",
    "    display_side_by_side,\n",
    "    make_neurons_states,\n",
    "    make_n_delays,\n",
    "    make_n_rep,\n",
    "    make_n_weights,\n",
    "    update_N_state_kernel,\n",
    "    TorchHolder\n",
    ")"
   ]
  },
  {
   "cell_type": "markdown",
   "metadata": {},
   "source": [
    "### Simulation Variables"
   ]
  },
  {
   "cell_type": "code",
   "execution_count": 2,
   "metadata": {},
   "outputs": [
    {
     "name": "stdout",
     "output_type": "stream",
     "text": [
      "neuron states:\n",
      "\tN0: pt=0.12, u=0.00, v=-65.00, a=-65.00, b=0.20, c=-79.70, d=-2.12, i=0.00\n",
      "\tN1: pt=0.61, u=0.00, v=-65.00, a=-65.00, b=0.23, c=-68.07, d=-12.77, i=0.00\n",
      "\tN2: pt=0.35, u=0.00, v=-65.00, a=-65.00, b=0.25, c=-65.03, d=-13.99, i=0.00\n",
      "\tN3: pt=0.10, u=0.00, v=-65.00, a=-65.00, b=0.21, c=-81.88, d=-7.25, i=0.00\n",
      "\n",
      "\n",
      "synapses:\n",
      "\tpre-synaptic neuron -> [post-synaptic neuron0, post-synaptic neuron1, ....]\n",
      "\t0 ->  [3, 2, 1]\n",
      "\t1 ->  [0, 2, 1]\n",
      "\t2 ->  [0, 2, 3]\n",
      "\t3 ->  [3, 2, 0]\n"
     ]
    },
    {
     "data": {
      "text/html": "<th style=\"text-align:center\"><td style=\"vertical-align:top\"><h2 style=\"text-align: center;\">Neuron_types</h2><table style=\"display:inline\" border=\"1\" class=\"dataframe\">\n  <thead>\n    <tr style=\"text-align: right;\">\n      <th></th>\n      <th>0</th>\n      <th>1</th>\n      <th>2</th>\n      <th>3</th>\n    </tr>\n  </thead>\n  <tbody>\n    <tr>\n      <th>0</th>\n      <td>0</td>\n      <td>1</td>\n      <td>1</td>\n      <td>1</td>\n    </tr>\n  </tbody>\n</table style=\"display:inline\"></td></th><th style=\"text-align:center\"><td style=\"vertical-align:top\"><h2 style=\"text-align: center;\">Neuron_states</h2><table style=\"display:inline\" border=\"1\" class=\"dataframe\">\n  <thead>\n    <tr style=\"text-align: right;\">\n      <th></th>\n      <th>0</th>\n      <th>1</th>\n      <th>2</th>\n      <th>3</th>\n    </tr>\n  </thead>\n  <tbody>\n    <tr>\n      <th>0</th>\n      <td>0.12</td>\n      <td>0.61</td>\n      <td>0.35</td>\n      <td>0.10</td>\n    </tr>\n    <tr>\n      <th>1</th>\n      <td>0.00</td>\n      <td>0.00</td>\n      <td>0.00</td>\n      <td>0.00</td>\n    </tr>\n    <tr>\n      <th>2</th>\n      <td>-65.00</td>\n      <td>-65.00</td>\n      <td>-65.00</td>\n      <td>-65.00</td>\n    </tr>\n    <tr>\n      <th>3</th>\n      <td>0.02</td>\n      <td>0.05</td>\n      <td>0.02</td>\n      <td>0.08</td>\n    </tr>\n    <tr>\n      <th>4</th>\n      <td>0.20</td>\n      <td>0.23</td>\n      <td>0.25</td>\n      <td>0.21</td>\n    </tr>\n    <tr>\n      <th>5</th>\n      <td>-79.70</td>\n      <td>-68.07</td>\n      <td>-65.03</td>\n      <td>-81.88</td>\n    </tr>\n    <tr>\n      <th>6</th>\n      <td>-2.12</td>\n      <td>-12.77</td>\n      <td>-13.99</td>\n      <td>-7.25</td>\n    </tr>\n    <tr>\n      <th>7</th>\n      <td>0.00</td>\n      <td>0.00</td>\n      <td>0.00</td>\n      <td>0.00</td>\n    </tr>\n  </tbody>\n</table style=\"display:inline\"></td></th><th style=\"text-align:center\"><td style=\"vertical-align:top\"><h2 style=\"text-align: center;\">Network_representation</h2><table style=\"display:inline\" border=\"1\" class=\"dataframe\">\n  <thead>\n    <tr style=\"text-align: right;\">\n      <th></th>\n      <th>0</th>\n      <th>1</th>\n      <th>2</th>\n      <th>3</th>\n    </tr>\n  </thead>\n  <tbody>\n    <tr>\n      <th>0</th>\n      <td>3</td>\n      <td>0</td>\n      <td>0</td>\n      <td>3</td>\n    </tr>\n    <tr>\n      <th>1</th>\n      <td>2</td>\n      <td>2</td>\n      <td>2</td>\n      <td>2</td>\n    </tr>\n    <tr>\n      <th>2</th>\n      <td>1</td>\n      <td>1</td>\n      <td>3</td>\n      <td>0</td>\n    </tr>\n  </tbody>\n</table style=\"display:inline\"></td></th>"
     },
     "metadata": {},
     "output_type": "display_data"
    }
   ],
   "source": [
    "N = 4  # Total number of neurons\n",
    "S = 3  # Number of synapses per Neuron\n",
    "D = 3  # Number of possible delays\n",
    "T = 1000  # Simulation duration\n",
    "\n",
    "Neuron_types = TorchHolder((torch.arange(N) >= 0.2 * N).cuda().type(torch.int32))  # 0 (inhibitory) or 1 (excitatory)\n",
    "\n",
    "# Neurons States (IZHIKEVICH MODEL) [rows: pt, u, v, a, b, c, d, i]\n",
    "Neuron_states = make_neurons_states(N, Neuron_types.tensor)\n",
    "rt = curand([3], dtype=np.float32)\n",
    "\n",
    "# Network Representation:\n",
    "#   column number: pre-synaptic neuron index in {0, ..., N-1},\n",
    "#   row number:    (local) synapse index from 0 to S -1,\n",
    "#   values:        post-synaptic neurons indices in {0, ..., N-1}.\n",
    "Network_representation = TorchHolder(make_n_rep(S=S, N=N).tensor)\n",
    "display_side_by_side(Neuron_types, Neuron_states, Network_representation,\n",
    "                     titles=['Neuron_types', 'Neuron_states', 'Network_representation'])"
   ]
  },
  {
   "cell_type": "code",
   "execution_count": 3,
   "metadata": {},
   "outputs": [
    {
     "name": "stdout",
     "output_type": "stream",
     "text": [
      "\n",
      "delays: neuron, [first synapse index with delay 0, first synapse index with delay 1, ...]\n",
      "\tN0:  [0, 1, 2, 3]\n",
      "\tN1:  [0, 0, 0, 3]\n",
      "\tN2:  [0, 0, 0, 3]\n",
      "\tN3:  [0, 1, 1, 3]\n",
      "\n",
      "weights:\n",
      "\tN0:  [-0.06, -0.41, -0.41]\n",
      "\tN1:  [5.55, 5.07, 5.24]\n",
      "\tN2:  [5.5, 5.64, 5.47]\n",
      "\tN3:  [5.01, 5.5, 5.17]\n"
     ]
    },
    {
     "data": {
      "text/html": "<th style=\"text-align:center\"><td style=\"vertical-align:top\"><h2 style=\"text-align: center;\">Network_delays</h2><table style=\"display:inline\" border=\"1\" class=\"dataframe\">\n  <thead>\n    <tr style=\"text-align: right;\">\n      <th></th>\n      <th>0</th>\n      <th>1</th>\n      <th>2</th>\n      <th>3</th>\n    </tr>\n  </thead>\n  <tbody>\n    <tr>\n      <th>0</th>\n      <td>0</td>\n      <td>0</td>\n      <td>0</td>\n      <td>0</td>\n    </tr>\n    <tr>\n      <th>1</th>\n      <td>1</td>\n      <td>0</td>\n      <td>0</td>\n      <td>1</td>\n    </tr>\n    <tr>\n      <th>2</th>\n      <td>2</td>\n      <td>0</td>\n      <td>0</td>\n      <td>1</td>\n    </tr>\n    <tr>\n      <th>3</th>\n      <td>3</td>\n      <td>3</td>\n      <td>3</td>\n      <td>3</td>\n    </tr>\n  </tbody>\n</table style=\"display:inline\"></td></th><th style=\"text-align:center\"><td style=\"vertical-align:top\"><h2 style=\"text-align: center;\">Neuron_weights</h2><table style=\"display:inline\" border=\"1\" class=\"dataframe\">\n  <thead>\n    <tr style=\"text-align: right;\">\n      <th></th>\n      <th>0</th>\n      <th>1</th>\n      <th>2</th>\n      <th>3</th>\n    </tr>\n  </thead>\n  <tbody>\n    <tr>\n      <th>0</th>\n      <td>-0.06</td>\n      <td>5.55</td>\n      <td>5.50</td>\n      <td>5.01</td>\n    </tr>\n    <tr>\n      <th>1</th>\n      <td>-0.41</td>\n      <td>5.07</td>\n      <td>5.64</td>\n      <td>5.50</td>\n    </tr>\n    <tr>\n      <th>2</th>\n      <td>-0.41</td>\n      <td>5.24</td>\n      <td>5.47</td>\n      <td>5.17</td>\n    </tr>\n  </tbody>\n</table style=\"display:inline\"></td></th>"
     },
     "metadata": {},
     "output_type": "display_data"
    }
   ],
   "source": [
    "Network_delays = make_n_delays(D, N, S)\n",
    "Neuron_weights = make_n_weights(Neuron_types, Network_representation)\n",
    "display_side_by_side(Network_delays, Neuron_weights,\n",
    "                     titles=['Network_delays', 'Neuron_weights'])"
   ]
  },
  {
   "cell_type": "code",
   "execution_count": 4,
   "metadata": {},
   "outputs": [
    {
     "name": "stdout",
     "output_type": "stream",
     "text": [
      "fired         = [0.0, 0.0, 0.0, 0.0]\n",
      "firing_times  = [0. 0. 0. 0. 0. 0. 0. 0. 0. 0. 0. 0. 0. 0. 0. 0. 0. 0. 0. 0. 0. 0. 0. 0.\n",
      " 0. 0. 0. 0. 0. 0. 0. 0. 0. 0. 0. 0. 0. 0. 0. 0. 0. 0. 0. 0. 0. 0. 0. 0.\n",
      " 0. 0. 0. 0. 0. 0. 0. 0. 0. 0. 0. 0.] (shape=(60, ))\n",
      "firing_idcs   = [0 0 0 0 0 0 0 0 0 0 0 0 0 0 0 0 0 0 0 0 0 0 0 0 0 0 0 0 0 0 0 0 0 0 0 0 0\n",
      " 0 0 0 0 0 0 0 0 0 0 0 0 0 0 0 0 0 0 0 0 0 0 0] (shape=(60, ))\n",
      "firing_counts = [0 0 0 ... 0 0 0] (shape=(1, 2000))\n"
     ]
    }
   ],
   "source": [
    "fired = TorchHolder(torch.zeros(size=(N,), dtype=torch.float32).cuda())\n",
    "firing_times = TorchHolder(torch.zeros(size=(15, N), dtype=torch.float32).flatten().cuda())\n",
    "firing_idcs = TorchHolder(torch.zeros(size=firing_times.shape, dtype=torch.int32).flatten().cuda())\n",
    "firing_counts = TorchHolder(torch.zeros(size=(1, T * 2), dtype=torch.int32).cuda())\n",
    "\n",
    "fired.print_as_list('fired         =',)\n",
    "print('firing_times  =', firing_times.as_array, f\"(shape=({firing_times.shape[0]}, ))\")\n",
    "print('firing_idcs   =', firing_idcs.as_array, f\"(shape=({firing_idcs.shape[0]}, ))\")\n",
    "print('firing_counts =', firing_counts.as_array, f\"(shape=({firing_counts.shape[0]}, {firing_counts.shape[1]}))\")"
   ]
  },
  {
   "cell_type": "markdown",
   "metadata": {},
   "source": [
    "### Voltage/Fired Update Kernel"
   ]
  },
  {
   "cell_type": "markdown",
   "metadata": {},
   "source": [
    "```c++\n",
    "__global__ void update_N_state(\n",
    "    const int N,\n",
    "    const float t,\n",
    "    const float* r,\n",
    "    const float* rt,\n",
    "    float* N_states,\n",
    "    const int* N_type,\n",
    "    float* fired,\n",
    "    const float thalamic_inh_input_current = 1.f,\n",
    "    const float thalamic_exc_input_current = 1.f\n",
    ")\n",
    "{\n",
    "    const int n = blockIdx.x * blockDim.x + threadIdx.x;\n",
    "\n",
    "    if (n < N)\n",
    "    {\n",
    "        fired[n] = 0.f;\n",
    "\n",
    "        float pt = N_states[n];\n",
    "        float u = N_states[n + N];\n",
    "        float v = N_states[n + 2 * N];\n",
    "        const float a = N_states[n + 3 * N];\n",
    "        const float b = N_states[n + 4 * N];\n",
    "        const float c = N_states[n + 5 * N];\n",
    "        const float d = N_states[n + 6 * N];\n",
    "        float i = N_states[n + 7 * N];\n",
    "\n",
    "        if (r[n] < pt)\n",
    "        {\n",
    "            const int ntype = N_type[n];\n",
    "            i += (thalamic_exc_input_current * ntype + thalamic_exc_input_current * (1 - ntype)) * rt[n];\n",
    "        }\n",
    "\n",
    "        if (v > 30.f)\n",
    "        {\n",
    "            v = c;\n",
    "            u = u + d;\n",
    "            fired[n] = t;\n",
    "        }\n",
    "\n",
    "        v = v + 0.5f * (0.04f * v * v + 5 * v + 140 - u + i);\n",
    "        v = v + 0.5f * (0.04f * v * v + 5 * v + 140 - u + i);\n",
    "        u = u + a * (b * v - u);\n",
    "\n",
    "        N_states[n + N] = u;\n",
    "        N_states[n + 2 * N] = v;\n",
    "        N_states[n + 7 * N] = 0.f;\n",
    "    }\n",
    "}\n",
    "```"
   ]
  },
  {
   "cell_type": "code",
   "execution_count": 5,
   "metadata": {},
   "outputs": [],
   "source": [
    "def update_N_state(t):\n",
    "    r = curand([3], dtype=np.float32)\n",
    "    update_N_state_kernel(np.int32(N), np.float32(t), r,  rt,\n",
    "                          Neuron_states, Neuron_types, fired,\n",
    "                          block =(32, 1, 1))"
   ]
  },
  {
   "cell_type": "markdown",
   "metadata": {},
   "source": [
    "### Relevant Attributes (./.../snn_sim_demo.cuh)\n",
    "```c++\n",
    "struct CurrentUpdater\n",
    "{\n",
    "\n",
    "    [...]\n",
    "\n",
    "    float* fired;               // during each step we collect firing times as floats\n",
    "    // i.e. a neuron n fires at time t, then fired[n] = t (see voltage-update kernel)\n",
    "\n",
    "    // read (meaning): the \"current_update_\"-kernel will be applied on all\n",
    "    //                 firing indices between firing_idcs_read and firing_idcs_write - 1\n",
    "\n",
    "    // write (meaning): the cusparseDenseToSparse conversion will be executed as if\n",
    "    //                  the respective arrays would start where the \"write\"-pointers point\n",
    "\n",
    "\n",
    "    float* firing_times_write;  // pointer (used by the cusparseDenseToSparse conversion)\n",
    "    float* firing_times_read;   // pointer (used by the current-update kernel)\n",
    "    float* firing_times;        // pointer to the start of array\n",
    "\n",
    "    int* firing_idcs_write;   // pointer (used by the cusparseDenseToSparse conversion)\n",
    "    int* firing_idcs_read;    // pointer (used by the current-update kernel)\n",
    "    int* firing_idcs;         // pointer to the start of array\n",
    "\n",
    "    int* firing_counts_write;  // pointer (used by the cusparseDenseToSparse conversion)\n",
    "    int* firing_counts;        // pointer (used by the current-update kernel)\n",
    "\n",
    "    cusparseHandle_t fired_handle;\n",
    "\n",
    "    cusparseSpMatDescr_t firing_times_sparse;\n",
    "    cusparseDnMatDescr_t firing_times_dense;\n",
    "\n",
    "    void* fired_buffer{nullptr};\n",
    "    size_t fired_buffer_size = 0;\n",
    "\n",
    "    // counters and thresholds used in the \"pointer-update\"-function\n",
    "    int n_fired = 0;\n",
    "    int n_fired_total = 0;\n",
    "    int n_fired_total_m1 = 0;  // number\n",
    "    int n_fired_0 = 0;\n",
    "    int n_fired_m1 = 0;\n",
    "\n",
    "    int firing_counts_idx = 1;\n",
    "    int firing_counts_idx_m1 = 1;\n",
    "\n",
    "    int reset_firing_times_ptr_threshold;\n",
    "    int reset_firing_count_idx_threshold;\n",
    "    int n_fired_m1_to_end = 0;\n",
    "\n",
    "    [...]\n",
    "}\n",
    "```"
   ]
  },
  {
   "cell_type": "markdown",
   "metadata": {},
   "source": [
    "### Initialization (./.../snn_sim_demo.cu)\n",
    "```c++\n",
    "CurrentUpdater::CurrentUpdater(...){\n",
    "\n",
    "    [...]\n",
    "\n",
    "    // Pointer Initializations\n",
    "    fired = fired_;\n",
    "    firing_times = firing_times_;\n",
    "    firing_idcs = firing_idcs_;\n",
    "    firing_counts = firing_counts_;\n",
    "\n",
    "    // initially all pointers point to the start of the respective array\n",
    "    firing_times_write = firing_times;\n",
    "    firing_times_read = firing_times;\n",
    "\n",
    "    firing_idcs_write = firing_idcs;\n",
    "    firing_idcs_read = firing_idcs;\n",
    "\n",
    "    firing_counts_write = firing_counts;\n",
    "\n",
    "    reset_firing_times_ptr_threshold = 13 * N;\n",
    "    reset_firing_count_idx_threshold = 2 * T;\n",
    "\n",
    "    // Cusparse Initializations (once is enough)\n",
    "    checkCusparseErrors(cusparseCreate(&fired_handle));\n",
    "    checkCusparseErrors(cusparseCreateDnMat(&firing_times_dense,\n",
    "        1, N, N,\n",
    "        fired,\n",
    "        CUDA_R_32F, CUSPARSE_ORDER_ROW));\n",
    "\n",
    "    checkCusparseErrors(cusparseCreateCsr(&firing_times_sparse, 1, N, 0,\n",
    "        firing_counts_write,\n",
    "        firing_idcs_write,\n",
    "        firing_times_write,\n",
    "        CUSPARSE_INDEX_32I, CUSPARSE_INDEX_32I,\n",
    "        CUSPARSE_INDEX_BASE_ZERO, CUDA_R_32F));\n",
    "\n",
    "    checkCusparseErrors(cusparseDenseToSparse_bufferSize(\n",
    "        fired_handle, firing_times_dense, firing_times_sparse,\n",
    "        CUSPARSE_DENSETOSPARSE_ALG_DEFAULT,\n",
    "        &fired_buffer_size));\n",
    "    checkCudaErrors(cudaMalloc(&fired_buffer, fired_buffer_size));\n",
    "\n",
    "}\n",
    "```"
   ]
  },
  {
   "cell_type": "markdown",
   "metadata": {},
   "source": [
    "### CuSparse Usage\n",
    "\n",
    "#### Setup\n",
    "\n",
    "With each simulation step we will convert the \"dense matrix\" **fired** into the [CSR format](https://docs.nvidia.com/cuda/cusparse/index.html?highlight=cusparse_index_base_zero#compressed-sparse-row-format-csr).\n",
    "\n",
    "_cusparseDnMatDescr_t_ **firing_times_dense**: $1 \\times N$ dense matrix\n",
    "\n",
    "* array: **fired**\n",
    "* order: row-major\n",
    "\n",
    "_cusparseSpMatDescr_t_ **firing_times_sparse**: $1 \\times N$ sparse matrix in the CSR format\n",
    "\n",
    "* Row offsets array: **firing_counts_write**\n",
    "* Column indices array: **firing_idcs_write**\n",
    "* Values array: **firing_times_write**\n",
    "\n",
    "#### Example\n",
    "\n",
    "Let's assume the \"write\" pointers point to the beginning of their respective arrays, i.e. **firing_counts_write** == **firing_counts**, etc..\n",
    "\n",
    "1. The Neurons $N1$ and $N3$ fire at time $t$, i.e.:\n",
    "\n",
    "<table>\n",
    "    <tbody>\n",
    "        <tr>\n",
    "            <td style=\"background-color: #aaa\"><b>fired: </b></td>\n",
    "            <td> 0 </td>\n",
    "            <td style=\"background-color: #bbb\"> t </td>\n",
    "            <td> 0 </td>\n",
    "            <td style=\"background-color: #bbb\"> t </td>\n",
    "        </tr>\n",
    "    </tbody>\n",
    "</table>\n",
    "\n",
    "\n",
    "2. The dense-to-sparse conversion then yields:\n",
    "\n",
    "\n",
    "<table>\n",
    "    <tbody>\n",
    "        <tr>\n",
    "            <td style=\"background-color: #aaa\"><b>firing_times (values): </b></td>\n",
    "            <td> t </td>\n",
    "            <td style=\"background-color: #bbb\"> t </td>\n",
    "            <td> 0 </td>\n",
    "            <td style=\"background-color: #bbb\"> ... </td>\n",
    "            <td> 0 </td>\n",
    "        </tr>\n",
    "    </tbody>\n",
    "</table>\n",
    "\n",
    "<table>\n",
    "    <tbody>\n",
    "        <tr>\n",
    "            <td style=\"background-color: #aaa\"><b>firing_counts (row offsets):  </b></td>\n",
    "            <td> 0 </td>\n",
    "            <td style=\"background-color: #bbb\"> 2 (=nzz)</td>\n",
    "            <td> 0 </td>\n",
    "            <td style=\"background-color: #bbb\"> ... </td>\n",
    "            <td> 0 </td>\n",
    "        </tr>\n",
    "    </tbody>\n",
    "</table>\n",
    "\n",
    "<table>\n",
    "    <tbody>\n",
    "        <tr>\n",
    "            <td style=\"background-color: #aaa\"><b>firing_idcs_write (column indices): </b></td>\n",
    "            <td> 1 </td>\n",
    "            <td style=\"background-color: #bbb\"> 3 </td>\n",
    "            <td> 0 </td>\n",
    "            <td style=\"background-color: #bbb\"> ... </td>\n",
    "            <td> 0 </td>\n",
    "        </tr>\n",
    "    </tbody>\n",
    "</table>\n",
    "\n",
    "\n",
    "In practice, we use pointer arithmetics to cycle through the output arrays. This allows us to keep a firing history and therefore synaptic delays. The number of required threads is dependent of the number of nonzero elements in the matrix (**nnz**). Once the \"read\"-pointers are shifted read pointers, we have enough information to launch the \"synaptic current update\"-kernel.\n",
    "\n"
   ]
  },
  {
   "cell_type": "code",
   "execution_count": 6,
   "metadata": {},
   "outputs": [
    {
     "data": {
      "text/plain": "SynapticCurrentUpdater(N=4, S=3, D=3, T=1000, t=0)"
     },
     "execution_count": 6,
     "metadata": {},
     "output_type": "execute_result"
    }
   ],
   "source": [
    "# noinspection PyUnresolvedReferences\n",
    "from sim_demo_precompiled import snn_sim_demo_cpp\n",
    "synaptic_current_updater = snn_sim_demo_cpp.SynapticCurrentUpdater(\n",
    "    N=N, S=S, D=D, T=T,\n",
    "    N_rep=Network_representation.get_pointer(),\n",
    "    N_delays=Network_delays.get_pointer(),\n",
    "    N_types=Neuron_types.get_pointer(),\n",
    "    N_states=Neuron_states.get_pointer(),\n",
    "    N_weights=Neuron_weights.get_pointer(),\n",
    "    fired=fired.get_pointer(),\n",
    "    firing_times=firing_times.get_pointer(),\n",
    "    firing_idcs=firing_idcs.get_pointer(),\n",
    "    firing_counts=firing_counts.get_pointer())\n",
    "\n",
    "def print_sim_state():\n",
    "    Neuron_states.print_row_as_list(2, 'v             =')\n",
    "    Neuron_states.print_row_as_list(7, 'i             =')\n",
    "    n_fired_total = synaptic_current_updater.n_fired_total\n",
    "    if synaptic_current_updater.n_fired > 0:\n",
    "        print('\\nfiring_counts =', firing_counts.as_array[: synaptic_current_updater.t * 2])\n",
    "        print('firing_times  =',  list(firing_times.as_array[: n_fired_total]))\n",
    "        print('firing_idcs   =',  list(firing_idcs.as_array[: n_fired_total]))\n",
    "\n",
    "synaptic_current_updater"
   ]
  },
  {
   "cell_type": "markdown",
   "metadata": {},
   "source": [
    "### Synaptic Current Update Kernel  (./.../snn_sim_demo.cu)\n",
    "\n",
    "```c++\n",
    "__global__ void update_current_(\n",
    "\tconst int N, const int S, const int D,\n",
    "\tconst int* fired_idcs_read, const int* fired_idcs,\n",
    "\tconst float* firing_times_read, const float* firing_times,\n",
    "\tconst int* N_flags, const int* N_rep, float* N_weights, float* N_states, const int* N_delays,\n",
    "\tconst int n_fired_m1_to_end, const int n_fired,\n",
    "\tconst int t\n",
    ")\n",
    "{\n",
    "\tconst int fired_idx = blockIdx.x * blockDim.x + threadIdx.x;\n",
    "\n",
    "    if (fired_idx < n_fired)\n",
    "    {\n",
    "        int n;  \t\t\t// pre-synaptic neuron\n",
    "        int firing_time;\t// firing time of the pre-synaptic neuron\n",
    "\n",
    "        if (fired_idx < n_fired_m1_to_end)\n",
    "        {\n",
    "            // global index of firing-array < len(fired-array)\n",
    "            // -> use the trailing pointer\n",
    "            n = fired_idcs_read[fired_idx];\n",
    "            firing_time = __float2int_rn(firing_times_read[fired_idx]);\n",
    "        }\n",
    "        else\n",
    "        {\n",
    "            // global index of firing-array >= len(fired-array)\n",
    "            // -> use the 'normal' pointer\n",
    "            n = fired_idcs[fired_idx - n_fired_m1_to_end];\n",
    "            firing_time = __float2int_rn(firing_times[fired_idx - n_fired_m1_to_end]);\n",
    "        }\n",
    "\n",
    "        int delay = t - firing_time;  // time passed since the neuron fired\n",
    "        const int delay_idx = n + N * (delay);\n",
    "\n",
    "        int snk_N; \t\t// post-synaptic Neuron-ID\n",
    "        int idx;\t\t// synapse-index\n",
    "\n",
    "        // row-index of the first synapse with a delay d_next = delay + 1\n",
    "        int s_end = N_delays[delay_idx + N];\n",
    "\n",
    "        float w;\t\t// weight of the synapse\n",
    "\n",
    "        // loop thourgh all synapses with a delay d == delay\n",
    "        for (int s = N_delays[delay_idx]; s < s_end; s++)\n",
    "        {\n",
    "            idx = n + N * s;\t\t// synapse-index\n",
    "            snk_N = N_rep[idx];\t\t// post-synaptic Neuron-ID\n",
    "\n",
    "            w  =  N_weights[idx];\n",
    "            atomicAdd(&N_states[snk_N + 7 * N], w);\n",
    "        }\n",
    "    }\n",
    "\n",
    "}\n",
    "```\n",
    "\n",
    "### Dense-To-Sparse Conversion (./.../snn_sim_demo.cu)\n",
    "\n",
    "```c++\n",
    "void CurrentUpdater::dense_to_sparse_conversion(const bool verbose)\n",
    "{\n",
    "    // 2. DenseToSparse Conversion (using \"write\"-pointers)\n",
    "    checkCusparseErrors(cusparseDenseToSparse_analysis(\n",
    "        fired_handle, firing_times_dense, firing_times_sparse,\n",
    "        CUSPARSE_DENSETOSPARSE_ALG_DEFAULT, fired_buffer));\n",
    "\n",
    "    checkCusparseErrors(cusparseDenseToSparse_convert(\n",
    "        fired_handle, firing_times_dense, firing_times_sparse,\n",
    "        CUSPARSE_DENSETOSPARSE_ALG_DEFAULT, fired_buffer));\n",
    "}\n",
    "```"
   ]
  },
  {
   "cell_type": "code",
   "execution_count": 7,
   "metadata": {},
   "outputs": [],
   "source": [
    "import time\n",
    "def update(verbose=False):\n",
    "    \"\"\"\n",
    "    Simulation steps:\n",
    "\n",
    "    1. Voltage/Fired update (here: external kernel).\n",
    "    2. DenseToSparse conversion (using \"write\"-pointers).\n",
    "    3. \"read\"/\"write\"-pointer shifts.\n",
    "    4. Synaptic current update (kernel; using \"read\"-pointers).\n",
    "    \"\"\"\n",
    "    Neuron_states.tensor[7] = 25\n",
    "    update_N_state(synaptic_current_updater.t)  # 1\n",
    "    synaptic_current_updater.dense_to_sparse_conversion(verbose=verbose)  # 2\n",
    "    synaptic_current_updater.shift_sim_pointers()  # 3\n",
    "    synaptic_current_updater.update_synaptic_current()  # 4\n",
    "\n",
    "    cuda.Context.synchronize()\n",
    "    time.sleep(.1)  # cleaner prints\n",
    "    print_sim_state()"
   ]
  },
  {
   "cell_type": "code",
   "execution_count": 8,
   "outputs": [
    {
     "name": "stdout",
     "output_type": "stream",
     "text": [
      "fired         = [0, 0, 0, 0].\n",
      "v             = [-56.05, -56.05, -56.05, -56.05]\n",
      "i             = [0.0, 0.0, 0.0, 0.0]\n"
     ]
    }
   ],
   "source": [
    "update()"
   ],
   "metadata": {
    "collapsed": false
   }
  },
  {
   "cell_type": "code",
   "execution_count": 9,
   "metadata": {},
   "outputs": [
    {
     "name": "stdout",
     "output_type": "stream",
     "text": [
      "fired         = [0, 0, 0, 0].\n",
      "v             = [-43.46, -43.0, -43.36, -42.56]\n",
      "i             = [0.0, 0.0, 0.0, 0.0]\n"
     ]
    }
   ],
   "source": [
    "update()"
   ]
  },
  {
   "cell_type": "code",
   "execution_count": 10,
   "metadata": {},
   "outputs": [
    {
     "name": "stdout",
     "output_type": "stream",
     "text": [
      "fired         = [0, 0, 0, 0].\n",
      "v             = [-8.03, -5.15, -7.36, -2.4]\n",
      "i             = [0.0, 0.0, 0.0, 0.0]\n"
     ]
    }
   ],
   "source": [
    "update()"
   ]
  },
  {
   "cell_type": "code",
   "execution_count": 11,
   "metadata": {},
   "outputs": [
    {
     "name": "stdout",
     "output_type": "stream",
     "text": [
      "fired         = [0, 0, 0, 0].\n",
      "v             = [340.76, 398.24, 353.76, 458.18]\n",
      "i             = [0.0, 0.0, 0.0, 0.0]\n"
     ]
    }
   ],
   "source": [
    "update()"
   ]
  },
  {
   "cell_type": "code",
   "execution_count": 12,
   "metadata": {},
   "outputs": [
    {
     "name": "stdout",
     "output_type": "stream",
     "text": [
      "fired         = [4, 4, 4, 4].\n",
      "v             = [-63.07, -48.84, -42.2, -63.77]\n",
      "i             = [0.0, 0.0, 0.0, 4.95]\n",
      "\n",
      "firing_counts = [0 0 0 0 0 0 0 0 0 4]\n",
      "firing_times  = [4.0, 4.0, 4.0, 4.0]\n",
      "firing_idcs   = [0, 1, 2, 3]\n"
     ]
    }
   ],
   "source": [
    "update(verbose=False)"
   ]
  },
  {
   "cell_type": "code",
   "execution_count": 13,
   "metadata": {},
   "outputs": [
    {
     "name": "stdout",
     "output_type": "stream",
     "text": [
      "fired         = [0, 0, 0, 0].\n",
      "v             = [-52.51, -12.64, 18.03, -52.78]\n",
      "i             = [0.0, 0.0, -0.41, 0.0]\n",
      "\n",
      "firing_counts = [0 0 0 0 0 0 0 0 0 4 0 0]\n",
      "firing_times  = [4.0, 4.0, 4.0, 4.0]\n",
      "firing_idcs   = [0, 1, 2, 3]\n"
     ]
    }
   ],
   "source": [
    "update(verbose=False)"
   ]
  },
  {
   "cell_type": "code",
   "execution_count": 14,
   "metadata": {},
   "outputs": [
    {
     "name": "stdout",
     "output_type": "stream",
     "text": [
      "fired         = [0, 0, 0, 0].\n",
      "v             = [-34.3, 291.0, 1142.82, -33.55]\n",
      "i             = [16.22, 4.84, 16.21, 5.47]\n",
      "\n",
      "firing_counts = [0 0 0 0 0 0 0 0 0 4 0 0 0 0]\n",
      "firing_times  = [4.0, 4.0, 4.0, 4.0]\n",
      "firing_idcs   = [0, 1, 2, 3]\n"
     ]
    }
   ],
   "source": [
    "update(verbose=False)"
   ]
  },
  {
   "cell_type": "code",
   "execution_count": 15,
   "metadata": {},
   "outputs": [
    {
     "name": "stdout",
     "output_type": "stream",
     "text": [
      "fired         = [0, 7, 7, 0].\n",
      "v             = [40.67, -38.65, -33.89, 48.14]\n",
      "i             = [0.0, 0.0, 0.0, 0.0]\n",
      "\n",
      "firing_counts = [0 0 0 0 0 0 0 0 0 4 0 0 0 0 0 2]\n",
      "firing_times  = [4.0, 4.0, 4.0, 4.0, 7.0, 7.0]\n",
      "firing_idcs   = [0, 1, 2, 3, 1, 2]\n"
     ]
    }
   ],
   "source": [
    "update(verbose=False)"
   ]
  },
  {
   "cell_type": "code",
   "execution_count": 16,
   "metadata": {},
   "outputs": [
    {
     "name": "stdout",
     "output_type": "stream",
     "text": [
      "fired         = [8, 0, 0, 8].\n",
      "v             = [-60.91, 46.92, 80.1, -56.28]\n",
      "i             = [0.0, 0.0, 0.0, 4.95]\n",
      "\n",
      "firing_counts = [0 0 0 0 0 0 0 0 0 4 0 0 0 0 0 2 0 2]\n",
      "firing_times  = [4.0, 4.0, 4.0, 4.0, 7.0, 7.0, 8.0, 8.0]\n",
      "firing_idcs   = [0, 1, 2, 3, 1, 2, 0, 3]\n"
     ]
    }
   ],
   "source": [
    "update(verbose=False)"
   ]
  },
  {
   "cell_type": "code",
   "execution_count": 17,
   "metadata": {},
   "outputs": [
    {
     "name": "stdout",
     "output_type": "stream",
     "text": [
      "fired         = [0, 9, 9, 0].\n",
      "v             = [-47.08, -25.12, -17.18, -32.19]\n",
      "i             = [11.05, 5.24, 10.3, 5.47]\n",
      "\n",
      "firing_counts = [0 0 0 0 0 0 0 0 0 4 0 0 0 0 0 2 0 2 0 2]\n",
      "firing_times  = [4.0, 4.0, 4.0, 4.0, 7.0, 7.0, 8.0, 8.0, 9.0, 9.0]\n",
      "firing_idcs   = [0, 1, 2, 3, 1, 2, 0, 3, 1, 2]\n"
     ]
    }
   ],
   "source": [
    "update(verbose=False)"
   ]
  },
  {
   "cell_type": "code",
   "execution_count": 18,
   "metadata": {},
   "outputs": [
    {
     "name": "stdout",
     "output_type": "stream",
     "text": [
      "t = 10,\n",
      "n_fired                      = 6,  n_fired_m1_to_end            = 6,\n",
      "n_fired_0                    = 2,  n_fired_m1                   = 0,\n",
      "n_fired_total                = 10, n_fired_total_m1             = 4,\n",
      "firing_counts_write (offset) = 20,\n",
      "firing_idcs_read    (offset) = 4,  firing_idcs_write  (offset)  = 10,\n",
      "firing_times_read   (offset) = 4,  firing_times_write (offset)  = 10.\n",
      "fired         = [0, 0, 0, 0].\n",
      "v             = [-15.64, 180.97, 291.87, 70.57]\n",
      "i             = [5.17, -0.41, 5.5, 0.0]\n",
      "\n",
      "firing_counts = [0 0 0 0 0 0 0 0 0 4 0 0 0 0 0 2 0 2 0 2 0 0]\n",
      "firing_times  = [4.0, 4.0, 4.0, 4.0, 7.0, 7.0, 8.0, 8.0, 9.0, 9.0]\n",
      "firing_idcs   = [0, 1, 2, 3, 1, 2, 0, 3, 1, 2]\n"
     ]
    }
   ],
   "source": [
    "update(verbose=True)"
   ]
  }
 ],
 "metadata": {
  "kernelspec": {
   "display_name": "Python 3 (ipykernel)",
   "language": "python",
   "name": "python3"
  },
  "language_info": {
   "codemirror_mode": {
    "name": "ipython",
    "version": 3
   },
   "file_extension": ".py",
   "mimetype": "text/x-python",
   "name": "python",
   "nbconvert_exporter": "python",
   "pygments_lexer": "ipython3",
   "version": "3.10.8"
  }
 },
 "nbformat": 4,
 "nbformat_minor": 1
}
